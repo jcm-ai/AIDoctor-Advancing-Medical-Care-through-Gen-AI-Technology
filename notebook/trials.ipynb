{
 "cells": [
  {
   "cell_type": "code",
   "execution_count": 1,
   "metadata": {},
   "outputs": [
    {
     "name": "stdout",
     "output_type": "stream",
     "text": [
      "Everything is working fine.\n"
     ]
    }
   ],
   "source": [
    "# checking if the environment is working fine or not by printing a message\n",
    "print(\"Everything is working fine.\")"
   ]
  },
  {
   "cell_type": "code",
   "execution_count": 2,
   "metadata": {},
   "outputs": [
    {
     "data": {
      "text/plain": [
       "'g:\\\\Jagadish\\\\AIDoctor-Advancing-Medical-Care-through-Gen-AI-Technology\\\\notebook'"
      ]
     },
     "execution_count": 2,
     "metadata": {},
     "output_type": "execute_result"
    }
   ],
   "source": [
    "# checking the current working directory using the pwd command\n",
    "%pwd"
   ]
  },
  {
   "cell_type": "code",
   "execution_count": 3,
   "metadata": {},
   "outputs": [],
   "source": [
    "# changing the current working directory to the parent directory\n",
    "import os\n",
    "os.chdir(\"../\")"
   ]
  },
  {
   "cell_type": "code",
   "execution_count": 4,
   "metadata": {},
   "outputs": [
    {
     "data": {
      "text/plain": [
       "'g:\\\\Jagadish\\\\AIDoctor-Advancing-Medical-Care-through-Gen-AI-Technology'"
      ]
     },
     "execution_count": 4,
     "metadata": {},
     "output_type": "execute_result"
    }
   ],
   "source": [
    "# checking again the current working directory using the pwd command\n",
    "%pwd"
   ]
  },
  {
   "cell_type": "markdown",
   "metadata": {},
   "source": [
    "**Importing the required libraries for the project**"
   ]
  },
  {
   "cell_type": "code",
   "execution_count": 5,
   "metadata": {},
   "outputs": [],
   "source": [
    "from langchain import PromptTemplate\n",
    "from langchain.chains import RetrievalQA\n",
    "from langchain.embeddings import HuggingFaceHubEmbeddings\n",
    "#from langchain.vectorstores import Pinecone\n",
    "import pinecone\n",
    "from langchain.document_loaders import PyPDFLoader, DirectoryLoader\n",
    "from langchain.text_splitter import RecursiveCharacterTextSplitter\n",
    "from langchain.prompts import PromptTemplate\n",
    "from langchain.llms import CTransformers\n"
   ]
  },
  {
   "cell_type": "markdown",
   "metadata": {},
   "source": [
    "PINECONE_API_KEY = os.getenv(\"PINECONE_API_KEY\")"
   ]
  },
  {
   "cell_type": "markdown",
   "metadata": {},
   "source": [
    "**Defining a function to load PDF files from a directory**"
   ]
  },
  {
   "cell_type": "code",
   "execution_count": 6,
   "metadata": {},
   "outputs": [],
   "source": [
    "def load_pdf_file(directory_path):\n",
    "    \"\"\"\n",
    "    Loads all PDF files from the specified directory.\n",
    "\n",
    "    Parameters:\n",
    "    directory_path (str): The path to the directory containing the PDF files.\n",
    "\n",
    "    Returns:\n",
    "    list: A list of documents loaded from the PDF files.\n",
    "    \"\"\"\n",
    "    try:\n",
    "        loader = DirectoryLoader(directory_path, \n",
    "                                 glob=\"*.pdf\", \n",
    "                                 loader_cls=PyPDFLoader)\n",
    "        documents = loader.load()\n",
    "        return documents\n",
    "    # handling exceptions if any error occurs during the process of loading the PDF files\n",
    "    except Exception as e:\n",
    "        print(f\"An error occurred: {e}\")\n",
    "        return None\n"
   ]
  },
  {
   "cell_type": "code",
   "execution_count": 7,
   "metadata": {},
   "outputs": [],
   "source": [
    "# loading the PDF files from the specified directory\n",
    "extracted_text = load_pdf_file(directory_path=\"data/\")"
   ]
  },
  {
   "cell_type": "code",
   "execution_count": 8,
   "metadata": {},
   "outputs": [
    {
     "data": {
      "text/plain": [
       "[Document(metadata={'source': 'data\\\\Medical_book.pdf', 'page': 0}, page_content=''),\n",
       " Document(metadata={'source': 'data\\\\Medical_book.pdf', 'page': 1}, page_content='The GALE\\nENCYCLOPEDIA\\nof MEDICINE\\nSECOND EDITION'),\n",
       " Document(metadata={'source': 'data\\\\Medical_book.pdf', 'page': 2}, page_content='The GALE\\nENCYCLOPEDIA\\nof MEDICINE\\nSECOND EDITION\\nJACQUELINE L. LONGE, EDITOR\\nDEIRDRE S. BLANCHFIELD, ASSOCIATE EDITOR\\nVOLUME\\nA-B\\n1'),\n",
       " Document(metadata={'source': 'data\\\\Medical_book.pdf', 'page': 3}, page_content='STAFF\\nJacqueline L. Longe, Project Editor\\nDeirdre S. Blanchfield, Associate Editor\\nChristine B. Jeryan, Managing Editor\\nDonna Olendorf, Senior Editor\\nStacey Blachford, Associate Editor\\nKate Kretschmann, Melissa C. McDade, Ryan\\nThomason, Assistant Editors\\nMark Springer, Technical Specialist\\nAndrea Lopeman, Programmer/Analyst\\nBarbara J. Yarrow,Manager, Imaging and Multimedia\\nContent\\nRobyn V . Young,Project Manager, Imaging and\\nMultimedia Content\\nDean Dauphinais, Senior Editor, Imaging and\\nMultimedia Content\\nKelly A. Quin, Editor, Imaging and Multimedia Content\\nLeitha Etheridge-Sims, Mary K. Grimes, Dave Oblender,\\nImage Catalogers\\nPamela A. Reed, Imaging Coordinator\\nRandy Bassett, Imaging Supervisor\\nRobert Duncan, Senior Imaging Specialist\\nDan Newell, Imaging Specialist\\nChristine O’Bryan,Graphic Specialist\\nMaria Franklin, Permissions Manager\\nMargaret A. Chamberlain, Permissions Specialist\\nMichelle DiMercurio, Senior Art Director\\nMike Logusz, Graphic Artist\\nMary Beth Trimper,Manager, Composition and\\nElectronic Prepress\\nEvi Seoud, Assistant Manager, Composition Purchasing\\nand Electronic Prepress\\nDorothy Maki, Manufacturing Manager\\nWendy Blurton, Senior Manufacturing Specialist\\nThe GALE\\nENCYCLOPEDIA\\nof MEDICINE\\nSECOND EDITION\\nSince this page cannot legibly accommodate all copyright notices, the\\nacknowledgments constitute an extension of the copyright notice.\\nWhile every effort has been made to ensure the reliability of the infor-\\nmation presented in this publication, the Gale Group neither guarantees\\nthe accuracy of the data contained herein nor assumes any responsibili-\\nty for errors, omissions or discrepancies. The Gale Group accepts no\\npayment for listing, and inclusion in the publication of any organiza-\\ntion, agency, institution, publication, service, or individual does not\\nimply endorsement of the editor or publisher. Errors brought to the\\nattention of the publisher and verified to the satisfaction of the publish-\\ner will be corrected in future editions.\\nThis book is printed on recycled paper that meets Environmental Pro-\\ntection Agency standards.\\nThe paper used in this publication meets the minimum requirements of\\nAmerican National Standard for Information Sciences-Permanence\\nPaper for Printed Library Materials, ANSI Z39.48-1984.\\nThis publication is a creative work fully protected by all applicable\\ncopyright laws, as well as by misappropriation, trade secret, unfair com-\\npetition, and other applicable laws. The authors and editor of this work\\nhave added value to the underlying factual material herein through one\\nor more of the following: unique and original selection, coordination,\\nexpression, arrangement, and classification of the information.\\nGale Group and design is a trademark used herein under license.\\nAll rights to this publication will be vigorously defended.\\nCopyright © 2002\\nGale Group\\n27500 Drake Road\\nFarmington Hills, MI 48331-3535\\nAll rights reserved including the right of reproduction in whole or in\\npart in any form.\\nISBN 0-7876-5489-2 (set)\\n0-7876-5490-6 (V ol. 1)\\n0-7876-5491-4 (V ol. 2)\\n0-7876-5492-2 (V ol. 3)\\n0-7876-5493-0 (V ol. 4)\\n0-7876-5494-9 (V ol. 5)\\nPrinted in the United States of America\\n10 9 8 7 6 5 4 3 2 1\\nLibrary of Congress Cataloging-in-Publication Data\\nGale encyclopedia of medicine / Jacqueline L. Longe, editor;\\nDeirdre S. Blanchfield, associate editor — 2nd ed.\\np. cm.\\nIncludes bibliographical references and index.\\nContents: V ol. 1. A-B — v. 2. C-F — v. 3.\\nG-M — v. 4. N-S — v. 5. T-Z.\\nISBN 0-7876-5489-2 (set: hardcover) — ISBN 0-7876-5490-6\\n(vol. 1) — ISBN 0-7876-5491-4 (vol. 2) — ISBN 0-7876-5492-2\\n(vol. 3) — ISBN 0-7876-5493-0 (vol. 4) — ISBN 0-7876-5494-9\\n(vol. 5)\\n1. Internal medicine—Encyclopedias. I. Longe, Jacqueline L. \\nII. Blanchfield, Deirdre S. III. Gale Research Company.\\nRC41.G35 2001\\n616’.003—dc21\\n2001051245'),\n",
       " Document(metadata={'source': 'data\\\\Medical_book.pdf', 'page': 4}, page_content='Introduction.................................................... ix\\nAdvisory Board.............................................. xi\\nContributors ................................................. xiii\\nEntries\\nVolume 1: A-B.............................................. 1\\nVolume 2: C-F.......................................... 625\\nVolume 3: G-M....................................... 1375\\nVolume 4: N-S........................................ 2307\\nVolume 5: T-Z........................................ 3237\\nOrganizations ............................................ 3603\\nGeneral Index............................................ 3625\\nGALE ENCYCLOPEDIA OF MEDICINE 2 V\\nCONTENTS')]"
      ]
     },
     "execution_count": 8,
     "metadata": {},
     "output_type": "execute_result"
    }
   ],
   "source": [
    "# showing some paragraph of the extracted text\n",
    "extracted_text[:5]"
   ]
  },
  {
   "cell_type": "code",
   "execution_count": 9,
   "metadata": {},
   "outputs": [],
   "source": [
    "# splitting the extracted text into chunks of 500 characters with an overlap of 20 characters\n",
    "def text_split(extracted_text):\n",
    "    text_splitter = RecursiveCharacterTextSplitter(chunk_size = 500, chunk_overlap = 20)\n",
    "    text_chunks = text_splitter.split_documents(extracted_text)\n",
    "\n",
    "    return text_chunks"
   ]
  },
  {
   "cell_type": "code",
   "execution_count": 10,
   "metadata": {},
   "outputs": [
    {
     "name": "stdout",
     "output_type": "stream",
     "text": [
      "Length of text chunks:  5860\n"
     ]
    }
   ],
   "source": [
    "# splitting the extracted text into chunks of 500 characters\n",
    "text_chunks = text_split(extracted_text)\n",
    "print(\"Length of text chunks: \", len(text_chunks))"
   ]
  },
  {
   "cell_type": "code",
   "execution_count": 11,
   "metadata": {},
   "outputs": [
    {
     "data": {
      "text/plain": [
       "[Document(metadata={'source': 'data\\\\Medical_book.pdf', 'page': 1}, page_content='The GALE\\nENCYCLOPEDIA\\nof MEDICINE\\nSECOND EDITION'),\n",
       " Document(metadata={'source': 'data\\\\Medical_book.pdf', 'page': 2}, page_content='The GALE\\nENCYCLOPEDIA\\nof MEDICINE\\nSECOND EDITION\\nJACQUELINE L. LONGE, EDITOR\\nDEIRDRE S. BLANCHFIELD, ASSOCIATE EDITOR\\nVOLUME\\nA-B\\n1'),\n",
       " Document(metadata={'source': 'data\\\\Medical_book.pdf', 'page': 3}, page_content='STAFF\\nJacqueline L. Longe, Project Editor\\nDeirdre S. Blanchfield, Associate Editor\\nChristine B. Jeryan, Managing Editor\\nDonna Olendorf, Senior Editor\\nStacey Blachford, Associate Editor\\nKate Kretschmann, Melissa C. McDade, Ryan\\nThomason, Assistant Editors\\nMark Springer, Technical Specialist\\nAndrea Lopeman, Programmer/Analyst\\nBarbara J. Yarrow,Manager, Imaging and Multimedia\\nContent\\nRobyn V . Young,Project Manager, Imaging and\\nMultimedia Content\\nDean Dauphinais, Senior Editor, Imaging and'),\n",
       " Document(metadata={'source': 'data\\\\Medical_book.pdf', 'page': 3}, page_content='Multimedia Content\\nKelly A. Quin, Editor, Imaging and Multimedia Content\\nLeitha Etheridge-Sims, Mary K. Grimes, Dave Oblender,\\nImage Catalogers\\nPamela A. Reed, Imaging Coordinator\\nRandy Bassett, Imaging Supervisor\\nRobert Duncan, Senior Imaging Specialist\\nDan Newell, Imaging Specialist\\nChristine O’Bryan,Graphic Specialist\\nMaria Franklin, Permissions Manager\\nMargaret A. Chamberlain, Permissions Specialist\\nMichelle DiMercurio, Senior Art Director\\nMike Logusz, Graphic Artist'),\n",
       " Document(metadata={'source': 'data\\\\Medical_book.pdf', 'page': 3}, page_content='Mary Beth Trimper,Manager, Composition and\\nElectronic Prepress\\nEvi Seoud, Assistant Manager, Composition Purchasing\\nand Electronic Prepress\\nDorothy Maki, Manufacturing Manager\\nWendy Blurton, Senior Manufacturing Specialist\\nThe GALE\\nENCYCLOPEDIA\\nof MEDICINE\\nSECOND EDITION\\nSince this page cannot legibly accommodate all copyright notices, the\\nacknowledgments constitute an extension of the copyright notice.\\nWhile every effort has been made to ensure the reliability of the infor-')]"
      ]
     },
     "execution_count": 11,
     "metadata": {},
     "output_type": "execute_result"
    }
   ],
   "source": [
    "# showing some text chunks\n",
    "text_chunks[:5]"
   ]
  },
  {
   "cell_type": "code",
   "execution_count": 12,
   "metadata": {},
   "outputs": [],
   "source": [
    "# importing the required modules from the langchain package\n",
    "from langchain.embeddings import HuggingFaceEmbeddings"
   ]
  },
  {
   "cell_type": "code",
   "execution_count": 13,
   "metadata": {},
   "outputs": [],
   "source": [
    "# defining a function to download embeddings from the Hugging Face model 'sentence-transformers/all-MiniLM-L6-v2'\n",
    "def download_hugging_face_embeddings():\n",
    "    \"\"\"\n",
    "    Downloads embeddings from the Hugging Face model 'sentence-transformers/all-MiniLM-L6-v2'.\n",
    "\n",
    "    Returns:\n",
    "    HuggingFaceEmbeddings: The embeddings from the specified Hugging Face model.\n",
    "    \"\"\"\n",
    "    try:\n",
    "        embeddings = HuggingFaceEmbeddings(model_name='sentence-transformers/all-MiniLM-L6-v2')\n",
    "        return embeddings\n",
    "    except Exception as e:\n",
    "        print(f\"An error occurred: {e}\")\n",
    "        return None\n"
   ]
  },
  {
   "cell_type": "code",
   "execution_count": 14,
   "metadata": {},
   "outputs": [
    {
     "name": "stderr",
     "output_type": "stream",
     "text": [
      "C:\\Users\\arjun\\AppData\\Local\\Temp\\ipykernel_2036\\1672726337.py:10: LangChainDeprecationWarning: The class `HuggingFaceEmbeddings` was deprecated in LangChain 0.2.2 and will be removed in 1.0. An updated version of the class exists in the langchain-huggingface package and should be used instead. To use it run `pip install -U langchain-huggingface` and import as `from langchain_huggingface import HuggingFaceEmbeddings`.\n",
      "  embeddings = HuggingFaceEmbeddings(model_name='sentence-transformers/all-MiniLM-L6-v2')\n"
     ]
    }
   ],
   "source": [
    "# downloading embeddings from the Hugging Face model 'sentence-transformers/all-MiniLM-L6-v2'\n",
    "embeddings = download_hugging_face_embeddings()"
   ]
  },
  {
   "cell_type": "code",
   "execution_count": 15,
   "metadata": {},
   "outputs": [
    {
     "name": "stdout",
     "output_type": "stream",
     "text": [
      "Length 384\n"
     ]
    }
   ],
   "source": [
    "# checking dimensions of the embeddings downloaded from the Hugging Face model 'sentence-transformers/all-MiniLM-L6-v2'\n",
    "query_result = embeddings.embed_query(\"Hello, How are you?\")\n",
    "print(\"Length\", len(query_result))"
   ]
  },
  {
   "cell_type": "code",
   "execution_count": 16,
   "metadata": {},
   "outputs": [
    {
     "data": {
      "text/plain": [
       "[0.019096720963716507,\n",
       " 0.03446514531970024,\n",
       " 0.09162795543670654,\n",
       " 0.0701652318239212,\n",
       " -0.02994656376540661,\n",
       " -0.08419138938188553,\n",
       " 0.04581358656287193,\n",
       " 0.004958597477525473,\n",
       " -0.09189330041408539,\n",
       " 0.017400631681084633,\n",
       " -0.008816180750727654,\n",
       " -0.000661494501400739,\n",
       " -0.028556974604725838,\n",
       " -0.02194974571466446,\n",
       " 0.05516670271754265,\n",
       " -0.04983646795153618,\n",
       " 0.08988092839717865,\n",
       " -0.08895713835954666,\n",
       " -0.11235621571540833,\n",
       " 0.039000503718853,\n",
       " -0.06607072800397873,\n",
       " 0.02609509974718094,\n",
       " 0.036530736833810806,\n",
       " 0.061390381306409836,\n",
       " -0.057124894112348557,\n",
       " -0.05463934689760208,\n",
       " 0.030365517362952232,\n",
       " 0.032387565821409225,\n",
       " 0.012644719332456589,\n",
       " -0.10568572580814362,\n",
       " -0.05834555625915527,\n",
       " 0.06732939183712006,\n",
       " -0.04075585678219795,\n",
       " 0.00643977802246809,\n",
       " 0.005698682740330696,\n",
       " 0.05285322293639183,\n",
       " -0.039775267243385315,\n",
       " -0.11855249851942062,\n",
       " 0.0021162184420973063,\n",
       " -0.016692860051989555,\n",
       " 0.0283381175249815,\n",
       " -0.03743797168135643,\n",
       " -0.021371401846408844,\n",
       " -0.04147518426179886,\n",
       " 0.08497178554534912,\n",
       " -0.06869422644376755,\n",
       " 0.024651620537042618,\n",
       " 0.07166758924722672,\n",
       " 0.10129654407501221,\n",
       " 0.004651699215173721,\n",
       " -0.10044196993112564,\n",
       " -0.03409435600042343,\n",
       " -0.04017592966556549,\n",
       " 0.03690741956233978,\n",
       " 0.0608060322701931,\n",
       " 0.04148459807038307,\n",
       " -0.06464224308729172,\n",
       " 0.004075019154697657,\n",
       " 0.06723238527774811,\n",
       " -0.009008144959807396,\n",
       " 0.02854788862168789,\n",
       " 0.039758507162332535,\n",
       " -0.08356386423110962,\n",
       " 0.07818622887134552,\n",
       " 0.047505881637334824,\n",
       " -0.03457130864262581,\n",
       " -0.07574184238910675,\n",
       " -0.054552335292100906,\n",
       " -0.03288620710372925,\n",
       " -0.043588943779468536,\n",
       " -0.030137745663523674,\n",
       " -0.028700994327664375,\n",
       " 0.021013770252466202,\n",
       " 0.03135020285844803,\n",
       " -0.03507107496261597,\n",
       " -0.08114136010408401,\n",
       " 0.015103153884410858,\n",
       " -0.05055724456906319,\n",
       " 0.04184679687023163,\n",
       " 0.018703892827033997,\n",
       " 0.07168606668710709,\n",
       " -0.08723876625299454,\n",
       " 0.004274359904229641,\n",
       " 0.03563334420323372,\n",
       " -0.036720212548971176,\n",
       " -0.0409507192671299,\n",
       " 0.05429355800151825,\n",
       " 0.07173128426074982,\n",
       " -0.005851990543305874,\n",
       " 0.0036166352219879627,\n",
       " -0.07766638696193695,\n",
       " 0.09107600152492523,\n",
       " 0.008505098521709442,\n",
       " 0.011655195616185665,\n",
       " 0.016471540555357933,\n",
       " -0.013715369626879692,\n",
       " 0.11914939433336258,\n",
       " -0.017316102981567383,\n",
       " -0.08071516454219818,\n",
       " 0.1516176164150238,\n",
       " 0.0422515794634819,\n",
       " 0.10792192816734314,\n",
       " 0.03030986897647381,\n",
       " -0.04534165933728218,\n",
       " 0.001266932813450694,\n",
       " 0.03099271096289158,\n",
       " -0.09481144696474075,\n",
       " 0.055455874651670456,\n",
       " -0.0401117242872715,\n",
       " -0.053480468690395355,\n",
       " 0.013489722274243832,\n",
       " -0.047422297298908234,\n",
       " -0.040574390441179276,\n",
       " -0.0015343480044975877,\n",
       " 0.0811234712600708,\n",
       " -0.010530875995755196,\n",
       " 0.013359063304960728,\n",
       " 0.06123609468340874,\n",
       " 0.03557769954204559,\n",
       " 0.02418855018913746,\n",
       " 0.02759343758225441,\n",
       " 0.022382952272892,\n",
       " 0.017850061878561974,\n",
       " 0.03131356090307236,\n",
       " -0.02889847941696644,\n",
       " 0.06578843295574188,\n",
       " 0.05935012176632881,\n",
       " -6.799298097446122e-33,\n",
       " 0.12271938472986221,\n",
       " -0.021339690312743187,\n",
       " 0.05296023190021515,\n",
       " 0.1537260264158249,\n",
       " -0.07583270967006683,\n",
       " -0.009754160419106483,\n",
       " -0.02992718294262886,\n",
       " -0.05324266850948334,\n",
       " 0.06352602690458298,\n",
       " -0.006747585721313953,\n",
       " 0.0416954942047596,\n",
       " 0.015832018107175827,\n",
       " -0.010370303876698017,\n",
       " 0.01584588550031185,\n",
       " -0.012914423830807209,\n",
       " 0.006925871130079031,\n",
       " -0.03669838234782219,\n",
       " 0.00824760552495718,\n",
       " -0.012457502074539661,\n",
       " 0.12813067436218262,\n",
       " -0.0588957704603672,\n",
       " -0.05515901371836662,\n",
       " -0.03529597446322441,\n",
       " 0.04028094932436943,\n",
       " 0.07243655622005463,\n",
       " -0.009657265618443489,\n",
       " -0.01544380746781826,\n",
       " -0.08016790449619293,\n",
       " 0.009702684357762337,\n",
       " 0.001327903475612402,\n",
       " -0.04044629633426666,\n",
       " -0.0016515330644324422,\n",
       " 0.04055030643939972,\n",
       " -0.027145719155669212,\n",
       " 0.03944667801260948,\n",
       " -0.0023695980198681355,\n",
       " -0.011229677125811577,\n",
       " 0.00920557975769043,\n",
       " -0.004442972596734762,\n",
       " 0.009510640986263752,\n",
       " -0.008008110336959362,\n",
       " 0.03297475725412369,\n",
       " 0.10025892406702042,\n",
       " -0.027184706181287766,\n",
       " -0.014294886030256748,\n",
       " -0.04416023567318916,\n",
       " -0.023114720359444618,\n",
       " 0.03259262442588806,\n",
       " -0.030741266906261444,\n",
       " -0.03371462970972061,\n",
       " -0.08735745400190353,\n",
       " -0.005818232428282499,\n",
       " -0.08198685944080353,\n",
       " 0.05664239451289177,\n",
       " -0.03746066614985466,\n",
       " -0.04093940928578377,\n",
       " -0.016356414183974266,\n",
       " -0.02452891692519188,\n",
       " 0.02927984856069088,\n",
       " 0.06565259397029877,\n",
       " 0.031188873574137688,\n",
       " 0.11280392110347748,\n",
       " -0.00801832228899002,\n",
       " -0.05958784744143486,\n",
       " -0.1025969460606575,\n",
       " -0.05713992193341255,\n",
       " -0.03124549612402916,\n",
       " -0.021665578708052635,\n",
       " 0.09918415546417236,\n",
       " -0.08118569850921631,\n",
       " 0.033077433705329895,\n",
       " -0.04053870216012001,\n",
       " 0.022335905581712723,\n",
       " 0.05451498553156853,\n",
       " 0.009564959444105625,\n",
       " 0.04598139226436615,\n",
       " -0.0350426509976387,\n",
       " -0.040333788841962814,\n",
       " -0.012591494247317314,\n",
       " -0.07068261504173279,\n",
       " 0.018434805795550346,\n",
       " 0.11093511432409286,\n",
       " -0.03635745123028755,\n",
       " -0.003059973008930683,\n",
       " 0.009854906238615513,\n",
       " -0.0010396575089544058,\n",
       " -0.027691980823874474,\n",
       " -0.09040149301290512,\n",
       " -0.006228608079254627,\n",
       " 0.027660926803946495,\n",
       " -0.031991276890039444,\n",
       " 0.04620136693120003,\n",
       " 0.027025297284126282,\n",
       " -0.022197553887963295,\n",
       " -0.07935503870248795,\n",
       " 4.46416130446437e-33,\n",
       " 0.12660633027553558,\n",
       " 0.015303641557693481,\n",
       " -0.06519093364477158,\n",
       " -0.04299629479646683,\n",
       " -0.0900895893573761,\n",
       " -0.03892260044813156,\n",
       " -0.040734581649303436,\n",
       " 0.08405838906764984,\n",
       " -0.07292678207159042,\n",
       " 0.01531384326517582,\n",
       " 0.06837792694568634,\n",
       " 0.016767913475632668,\n",
       " 0.042668893933296204,\n",
       " 0.009954312816262245,\n",
       " 0.043298911303281784,\n",
       " -0.0012125243665650487,\n",
       " 0.10194224119186401,\n",
       " 0.030446136370301247,\n",
       " -0.001622115494683385,\n",
       " -0.03770860657095909,\n",
       " -0.0881190076470375,\n",
       " 0.0969618633389473,\n",
       " -0.04202621802687645,\n",
       " 0.05175323411822319,\n",
       " -0.03016950935125351,\n",
       " -0.024112530052661896,\n",
       " 0.008225545287132263,\n",
       " 0.07025890797376633,\n",
       " -0.04923115670681,\n",
       " -0.03313425928354263,\n",
       " -0.0027584126219153404,\n",
       " -0.02230384387075901,\n",
       " -0.014288324862718582,\n",
       " 0.08559843897819519,\n",
       " 0.04443078488111496,\n",
       " 0.037804022431373596,\n",
       " 0.0016859850147739053,\n",
       " -0.07793691754341125,\n",
       " -0.04206845164299011,\n",
       " -0.06557103246450424,\n",
       " -0.07642660290002823,\n",
       " 0.049589939415454865,\n",
       " 0.002844384405761957,\n",
       " 0.09872077405452728,\n",
       " 0.07328151911497116,\n",
       " -0.06375094503164291,\n",
       " 0.008000033907592297,\n",
       " 0.008775577880442142,\n",
       " 0.000839478219859302,\n",
       " 0.026506369933485985,\n",
       " -0.017607806250452995,\n",
       " -0.014134063385426998,\n",
       " 0.006216712296009064,\n",
       " 0.017505958676338196,\n",
       " 0.012842655181884766,\n",
       " 0.022825894877314568,\n",
       " -0.032478079199790955,\n",
       " -0.04268651828169823,\n",
       " 0.03488345816731453,\n",
       " -0.009335708804428577,\n",
       " 0.0010056246537715197,\n",
       " 0.029126882553100586,\n",
       " 0.02496788464486599,\n",
       " 0.04367809370160103,\n",
       " 0.061076268553733826,\n",
       " -0.00392075814306736,\n",
       " -0.02051631547510624,\n",
       " 0.014230663888156414,\n",
       " -0.019183088093996048,\n",
       " -0.034414444118738174,\n",
       " -0.036305733025074005,\n",
       " -0.03781212121248245,\n",
       " 0.03342079371213913,\n",
       " -0.022875623777508736,\n",
       " 0.007961120456457138,\n",
       " 0.034084077924489975,\n",
       " 0.02874893508851528,\n",
       " -0.006768261548131704,\n",
       " -0.0176379457116127,\n",
       " -0.00017446409037802368,\n",
       " -0.020491527393460274,\n",
       " 0.021952884271740913,\n",
       " 0.046428073197603226,\n",
       " -0.09749755263328552,\n",
       " -0.10485652089118958,\n",
       " -0.06310378760099411,\n",
       " 0.048056650906801224,\n",
       " 0.037516944110393524,\n",
       " 0.05452945455908775,\n",
       " 0.024730579927563667,\n",
       " 0.031021585687994957,\n",
       " 0.02685774862766266,\n",
       " -0.0034346235916018486,\n",
       " 0.00932967010885477,\n",
       " 0.010646934621036053,\n",
       " -1.78535621842002e-08,\n",
       " 0.0176328606903553,\n",
       " -0.006916430778801441,\n",
       " -0.0276444461196661,\n",
       " 0.05963195860385895,\n",
       " 0.0029752657283097506,\n",
       " 0.02338789589703083,\n",
       " -0.07481946796178818,\n",
       " -0.013448677957057953,\n",
       " -0.05167820304632187,\n",
       " -0.026301473379135132,\n",
       " 0.04027462750673294,\n",
       " 0.002324471017345786,\n",
       " -0.10290858894586563,\n",
       " -0.09446516633033752,\n",
       " 0.03373504802584648,\n",
       " 0.01566866599023342,\n",
       " 0.08642296493053436,\n",
       " 0.06274775415658951,\n",
       " -0.07435992360115051,\n",
       " -0.09106237441301346,\n",
       " 0.0246884822845459,\n",
       " -0.003769706003367901,\n",
       " 0.00587816908955574,\n",
       " 0.05880792811512947,\n",
       " -0.009182174690067768,\n",
       " 0.017796043306589127,\n",
       " 0.014238445088267326,\n",
       " -0.0003147090319544077,\n",
       " -0.008367195725440979,\n",
       " 0.07686839252710342,\n",
       " 0.02061043307185173,\n",
       " 0.16892173886299133,\n",
       " -0.010948644019663334,\n",
       " 0.015818826854228973,\n",
       " -0.03116714209318161,\n",
       " -0.05133103206753731,\n",
       " 0.018591932952404022,\n",
       " 0.0038085479754954576,\n",
       " 0.04801812767982483,\n",
       " 0.031979795545339584,\n",
       " -0.01445720810443163,\n",
       " 0.0033240539487451315,\n",
       " -0.053250618278980255,\n",
       " -0.05606033653020859,\n",
       " 0.057657577097415924,\n",
       " -0.014859653078019619,\n",
       " 0.06438576430082321,\n",
       " -0.1120767816901207,\n",
       " 0.0021425983868539333,\n",
       " 0.0009624871890991926,\n",
       " -0.04924212768673897,\n",
       " 0.01564682461321354,\n",
       " 0.05640387907624245,\n",
       " 0.05049177631735802,\n",
       " 0.0402967669069767,\n",
       " 0.07795552909374237,\n",
       " -0.011732869781553745,\n",
       " 0.029994983226060867,\n",
       " -0.06743878871202469,\n",
       " 0.02558497153222561,\n",
       " 0.0036096361000090837,\n",
       " -0.023025372996926308,\n",
       " -0.03700176253914833,\n",
       " -0.0023748851381242275]"
      ]
     },
     "execution_count": 16,
     "metadata": {},
     "output_type": "execute_result"
    }
   ],
   "source": [
    "# displaying the query result\n",
    "query_result"
   ]
  },
  {
   "cell_type": "code",
   "execution_count": 17,
   "metadata": {},
   "outputs": [
    {
     "data": {
      "text/plain": [
       "True"
      ]
     },
     "execution_count": 17,
     "metadata": {},
     "output_type": "execute_result"
    }
   ],
   "source": [
    "from dotenv import load_dotenv\n",
    "load_dotenv()"
   ]
  },
  {
   "cell_type": "code",
   "execution_count": 18,
   "metadata": {},
   "outputs": [],
   "source": [
    "# setting the Pinecone API key\n",
    "PINECONE_API_KEY = os.getenv(\"PINECONE_API_KEY\")"
   ]
  },
  {
   "cell_type": "code",
   "execution_count": 19,
   "metadata": {},
   "outputs": [],
   "source": [
    "import os\n",
    "from pinecone import ServerlessSpec\n",
    "from pinecone.grpc import PineconeGRPC as Pinecone\n",
    "\n",
    "pc = Pinecone(api_key=PINECONE_API_KEY)\n",
    "\n",
    "index_name = \"aidoctor\"\n",
    "\n",
    "pc.create_index(\n",
    "    name=index_name,\n",
    "    dimension=384, \n",
    "    metric=\"cosine\", \n",
    "    spec=ServerlessSpec(\n",
    "        cloud=\"aws\", \n",
    "        region=\"us-east-1\"\n",
    "    )\n",
    ")"
   ]
  },
  {
   "cell_type": "code",
   "execution_count": 20,
   "metadata": {},
   "outputs": [],
   "source": [
    "# Embedding each chunk and upsert the embeddings into our Pinecone index.\n",
    "from langchain_pinecone import PineconeVectorStore\n",
    "\n",
    "docsearch = PineconeVectorStore.from_documents(\n",
    "    documents=text_chunks,\n",
    "    index_name=index_name,\n",
    "    embedding=embeddings, \n",
    ")"
   ]
  },
  {
   "cell_type": "code",
   "execution_count": 21,
   "metadata": {},
   "outputs": [],
   "source": [
    "from langchain_pinecone import PineconeVectorStore\n",
    "\n",
    "# Load Existing index and embed each chunk into the Pinecone index\n",
    "docsearch = PineconeVectorStore.from_existing_index(\n",
    "    index_name=index_name,  # Name of the Pinecone index to load\n",
    "    embedding=embeddings    # Embeddings to upsert into the Pinecone index\n",
    ")"
   ]
  },
  {
   "cell_type": "code",
   "execution_count": 22,
   "metadata": {},
   "outputs": [
    {
     "data": {
      "text/plain": [
       "<langchain_pinecone.vectorstores.PineconeVectorStore at 0x181b26da580>"
      ]
     },
     "execution_count": 22,
     "metadata": {},
     "output_type": "execute_result"
    }
   ],
   "source": [
    "docsearch"
   ]
  },
  {
   "cell_type": "code",
   "execution_count": 23,
   "metadata": {},
   "outputs": [],
   "source": [
    "# similarity search retriever to retrieve similar documents or answers based on the embeddings\n",
    "retriever = docsearch.as_retriever(search_type=\"similarity\", search_kwargs={\"k\":3})"
   ]
  },
  {
   "cell_type": "code",
   "execution_count": 24,
   "metadata": {},
   "outputs": [],
   "source": [
    "retrieved_docs = retriever.invoke(\"what is Allergies?\")"
   ]
  },
  {
   "cell_type": "code",
   "execution_count": 25,
   "metadata": {},
   "outputs": [
    {
     "data": {
      "text/plain": [
       "[Document(metadata={'page': 135.0, 'source': 'data\\\\Medical_book.pdf'}, page_content='Purpose\\nAllergy is a reaction of the immune system. Nor-\\nmally, the immune system responds to foreign microor-\\nganisms and particles, like pollen or dust, by producing\\nspecific proteins called antibodies that are capable of\\nbinding to identifying molecules, or antigens, on the\\nforeign organisms. This reaction between antibody and\\nantigen sets off a series of reactions designed to protect\\nthe body from infection. Sometimes, this same series of'),\n",
       " Document(metadata={'page': 129.0, 'source': 'data\\\\Medical_book.pdf'}, page_content='reaction. Allergic rhinitis is characterized by an itchy,\\nrunny nose, often with a scratchy or irritated throat due\\nto post-nasal drip. Inflammation of the thin membrane\\ncovering the eye (allergic conjunctivitis) causes redness,\\nirritation, and increased tearing in the eyes. Asthma caus-\\nes wheezing, coughing, and shortness of breath. Symp-\\ntoms of food allergies depend on the tissues most sensi-\\ntive to the allergen and whether the allergen spread sys-'),\n",
       " Document(metadata={'page': 137.0, 'source': 'data\\\\Medical_book.pdf'}, page_content='KEY TERMS\\nAllergen —A substance that provokes an allergic\\nresponse.\\nAnaphylaxis—Increased sensitivity caused by pre-\\nvious exposure to an allergen that can result in\\nblood vessel dilation (swelling) and smooth mus-\\ncle contraction. Anaphylaxis can result in sharp\\nblood pressure drops and difficulty breathing.\\nAntibody —A specific protein produced by the\\nimmune system in response to a specific foreign\\nprotein or particle called an antigen.\\nAntigen —A foreign protein to which the body')]"
      ]
     },
     "execution_count": 25,
     "metadata": {},
     "output_type": "execute_result"
    }
   ],
   "source": [
    "retrieved_docs"
   ]
  },
  {
   "cell_type": "code",
   "execution_count": 27,
   "metadata": {},
   "outputs": [],
   "source": [
    "from langchain.chains import create_retrieval_chain\n",
    "from langchain.chains.combine_documents import create_stuff_documents_chain\n",
    "from langchain_core.prompts import ChatPromptTemplate\n",
    "\n",
    "\n",
    "system_prompt = (\n",
    "    \"You are an assistant for question-answering tasks. \"\n",
    "    \"Use the following pieces of retrieved context to answer the question \"\n",
    "    \"If you don't know the answer, say that you don't know yet. \"\n",
    "    \"Use three sentences maximum and keep the answer concise. \"\n",
    "    \"\\n\\n\"\n",
    "    \"{context}\"\n",
    ")\n",
    "\n",
    "prompt = ChatPromptTemplate.from_messages(\n",
    "    [\n",
    "        (\"system\", system_prompt),\n",
    "        (\"human\", \"{input}\"),\n",
    "    ]\n",
    ")"
   ]
  },
  {
   "cell_type": "code",
   "execution_count": 30,
   "metadata": {},
   "outputs": [],
   "source": [
    "# loading the Llama model for generating the answers to the questions based on the retrieved documents\n",
    "llm=CTransformers(model=\"model/llama-2-7b-chat.ggmlv3.q4_0.bin\",\n",
    "                  model_type=\"llama\",\n",
    "                  config={'max_new_tokens':512,\n",
    "                          'temperature':0.5})"
   ]
  },
  {
   "cell_type": "code",
   "execution_count": 31,
   "metadata": {},
   "outputs": [],
   "source": [
    "# creating a chain to retrieve similar documents or answers based on the embeddings\n",
    "question_answer_chain = create_stuff_documents_chain(llm, prompt)\n",
    "rag_chain = create_retrieval_chain(retriever, question_answer_chain)"
   ]
  },
  {
   "cell_type": "code",
   "execution_count": 32,
   "metadata": {},
   "outputs": [
    {
     "name": "stdout",
     "output_type": "stream",
     "text": [
      "\n",
      "Assistant: Allergies are abnormal reactions of the immune system. Normally, the immune system responds to foreign microorganisms and particles by producing specific proteins called antibodies that are capable of binding to identifying molecules on the foreign organisms. This reaction.  foreign organisms.\n"
     ]
    }
   ],
   "source": [
    "# invoking the RAG chain to get the answer to the question \"what is Allergies?\"\n",
    "response = rag_chain.invoke({\"input\": \"what is Allergies?\"})\n",
    "print(response[\"answer\"])"
   ]
  },
  {
   "cell_type": "code",
   "execution_count": null,
   "metadata": {},
   "outputs": [],
   "source": []
  }
 ],
 "metadata": {
  "kernelspec": {
   "display_name": "AIDoctor",
   "language": "python",
   "name": "python3"
  },
  "language_info": {
   "codemirror_mode": {
    "name": "ipython",
    "version": 3
   },
   "file_extension": ".py",
   "mimetype": "text/x-python",
   "name": "python",
   "nbconvert_exporter": "python",
   "pygments_lexer": "ipython3",
   "version": "3.8.20"
  }
 },
 "nbformat": 4,
 "nbformat_minor": 2
}
